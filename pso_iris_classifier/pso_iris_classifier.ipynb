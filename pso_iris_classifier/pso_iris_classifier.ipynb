{
  "nbformat": 4,
  "nbformat_minor": 0,
  "metadata": {
    "colab": {
      "provenance": [],
      "gpuType": "T4"
    },
    "kernelspec": {
      "name": "python3",
      "display_name": "Python 3"
    },
    "language_info": {
      "name": "python"
    },
    "accelerator": "GPU"
  },
  "cells": [
    {
      "cell_type": "code",
      "execution_count": 1,
      "metadata": {
        "colab": {
          "base_uri": "https://localhost:8080/"
        },
        "id": "EyQ89p_c4sNo",
        "outputId": "a6d32f2b-d3fb-466e-9204-7e5878047e68"
      },
      "outputs": [
        {
          "output_type": "stream",
          "name": "stdout",
          "text": [
            "Collecting pyswarms\n",
            "  Downloading pyswarms-1.3.0-py2.py3-none-any.whl.metadata (33 kB)\n",
            "Requirement already satisfied: scipy in /usr/local/lib/python3.11/dist-packages (from pyswarms) (1.15.3)\n",
            "Requirement already satisfied: numpy in /usr/local/lib/python3.11/dist-packages (from pyswarms) (2.0.2)\n",
            "Requirement already satisfied: matplotlib>=1.3.1 in /usr/local/lib/python3.11/dist-packages (from pyswarms) (3.10.0)\n",
            "Requirement already satisfied: attrs in /usr/local/lib/python3.11/dist-packages (from pyswarms) (25.3.0)\n",
            "Requirement already satisfied: tqdm in /usr/local/lib/python3.11/dist-packages (from pyswarms) (4.67.1)\n",
            "Requirement already satisfied: future in /usr/local/lib/python3.11/dist-packages (from pyswarms) (1.0.0)\n",
            "Requirement already satisfied: pyyaml in /usr/local/lib/python3.11/dist-packages (from pyswarms) (6.0.2)\n",
            "Requirement already satisfied: contourpy>=1.0.1 in /usr/local/lib/python3.11/dist-packages (from matplotlib>=1.3.1->pyswarms) (1.3.2)\n",
            "Requirement already satisfied: cycler>=0.10 in /usr/local/lib/python3.11/dist-packages (from matplotlib>=1.3.1->pyswarms) (0.12.1)\n",
            "Requirement already satisfied: fonttools>=4.22.0 in /usr/local/lib/python3.11/dist-packages (from matplotlib>=1.3.1->pyswarms) (4.58.1)\n",
            "Requirement already satisfied: kiwisolver>=1.3.1 in /usr/local/lib/python3.11/dist-packages (from matplotlib>=1.3.1->pyswarms) (1.4.8)\n",
            "Requirement already satisfied: packaging>=20.0 in /usr/local/lib/python3.11/dist-packages (from matplotlib>=1.3.1->pyswarms) (24.2)\n",
            "Requirement already satisfied: pillow>=8 in /usr/local/lib/python3.11/dist-packages (from matplotlib>=1.3.1->pyswarms) (11.2.1)\n",
            "Requirement already satisfied: pyparsing>=2.3.1 in /usr/local/lib/python3.11/dist-packages (from matplotlib>=1.3.1->pyswarms) (3.2.3)\n",
            "Requirement already satisfied: python-dateutil>=2.7 in /usr/local/lib/python3.11/dist-packages (from matplotlib>=1.3.1->pyswarms) (2.9.0.post0)\n",
            "Requirement already satisfied: six>=1.5 in /usr/local/lib/python3.11/dist-packages (from python-dateutil>=2.7->matplotlib>=1.3.1->pyswarms) (1.17.0)\n",
            "Downloading pyswarms-1.3.0-py2.py3-none-any.whl (104 kB)\n",
            "\u001b[2K   \u001b[90m━━━━━━━━━━━━━━━━━━━━━━━━━━━━━━━━━━━━━━━━\u001b[0m \u001b[32m104.1/104.1 kB\u001b[0m \u001b[31m5.3 MB/s\u001b[0m eta \u001b[36m0:00:00\u001b[0m\n",
            "\u001b[?25hInstalling collected packages: pyswarms\n",
            "Successfully installed pyswarms-1.3.0\n",
            "Requirement already satisfied: tensorflow in /usr/local/lib/python3.11/dist-packages (2.18.0)\n",
            "Requirement already satisfied: absl-py>=1.0.0 in /usr/local/lib/python3.11/dist-packages (from tensorflow) (1.4.0)\n",
            "Requirement already satisfied: astunparse>=1.6.0 in /usr/local/lib/python3.11/dist-packages (from tensorflow) (1.6.3)\n",
            "Requirement already satisfied: flatbuffers>=24.3.25 in /usr/local/lib/python3.11/dist-packages (from tensorflow) (25.2.10)\n",
            "Requirement already satisfied: gast!=0.5.0,!=0.5.1,!=0.5.2,>=0.2.1 in /usr/local/lib/python3.11/dist-packages (from tensorflow) (0.6.0)\n",
            "Requirement already satisfied: google-pasta>=0.1.1 in /usr/local/lib/python3.11/dist-packages (from tensorflow) (0.2.0)\n",
            "Requirement already satisfied: libclang>=13.0.0 in /usr/local/lib/python3.11/dist-packages (from tensorflow) (18.1.1)\n",
            "Requirement already satisfied: opt-einsum>=2.3.2 in /usr/local/lib/python3.11/dist-packages (from tensorflow) (3.4.0)\n",
            "Requirement already satisfied: packaging in /usr/local/lib/python3.11/dist-packages (from tensorflow) (24.2)\n",
            "Requirement already satisfied: protobuf!=4.21.0,!=4.21.1,!=4.21.2,!=4.21.3,!=4.21.4,!=4.21.5,<6.0.0dev,>=3.20.3 in /usr/local/lib/python3.11/dist-packages (from tensorflow) (5.29.5)\n",
            "Requirement already satisfied: requests<3,>=2.21.0 in /usr/local/lib/python3.11/dist-packages (from tensorflow) (2.32.3)\n",
            "Requirement already satisfied: setuptools in /usr/local/lib/python3.11/dist-packages (from tensorflow) (75.2.0)\n",
            "Requirement already satisfied: six>=1.12.0 in /usr/local/lib/python3.11/dist-packages (from tensorflow) (1.17.0)\n",
            "Requirement already satisfied: termcolor>=1.1.0 in /usr/local/lib/python3.11/dist-packages (from tensorflow) (3.1.0)\n",
            "Requirement already satisfied: typing-extensions>=3.6.6 in /usr/local/lib/python3.11/dist-packages (from tensorflow) (4.14.0)\n",
            "Requirement already satisfied: wrapt>=1.11.0 in /usr/local/lib/python3.11/dist-packages (from tensorflow) (1.17.2)\n",
            "Requirement already satisfied: grpcio<2.0,>=1.24.3 in /usr/local/lib/python3.11/dist-packages (from tensorflow) (1.72.1)\n",
            "Requirement already satisfied: tensorboard<2.19,>=2.18 in /usr/local/lib/python3.11/dist-packages (from tensorflow) (2.18.0)\n",
            "Requirement already satisfied: keras>=3.5.0 in /usr/local/lib/python3.11/dist-packages (from tensorflow) (3.8.0)\n",
            "Requirement already satisfied: numpy<2.1.0,>=1.26.0 in /usr/local/lib/python3.11/dist-packages (from tensorflow) (2.0.2)\n",
            "Requirement already satisfied: h5py>=3.11.0 in /usr/local/lib/python3.11/dist-packages (from tensorflow) (3.13.0)\n",
            "Requirement already satisfied: ml-dtypes<0.5.0,>=0.4.0 in /usr/local/lib/python3.11/dist-packages (from tensorflow) (0.4.1)\n",
            "Requirement already satisfied: tensorflow-io-gcs-filesystem>=0.23.1 in /usr/local/lib/python3.11/dist-packages (from tensorflow) (0.37.1)\n",
            "Requirement already satisfied: wheel<1.0,>=0.23.0 in /usr/local/lib/python3.11/dist-packages (from astunparse>=1.6.0->tensorflow) (0.45.1)\n",
            "Requirement already satisfied: rich in /usr/local/lib/python3.11/dist-packages (from keras>=3.5.0->tensorflow) (13.9.4)\n",
            "Requirement already satisfied: namex in /usr/local/lib/python3.11/dist-packages (from keras>=3.5.0->tensorflow) (0.1.0)\n",
            "Requirement already satisfied: optree in /usr/local/lib/python3.11/dist-packages (from keras>=3.5.0->tensorflow) (0.16.0)\n",
            "Requirement already satisfied: charset-normalizer<4,>=2 in /usr/local/lib/python3.11/dist-packages (from requests<3,>=2.21.0->tensorflow) (3.4.2)\n",
            "Requirement already satisfied: idna<4,>=2.5 in /usr/local/lib/python3.11/dist-packages (from requests<3,>=2.21.0->tensorflow) (3.10)\n",
            "Requirement already satisfied: urllib3<3,>=1.21.1 in /usr/local/lib/python3.11/dist-packages (from requests<3,>=2.21.0->tensorflow) (2.4.0)\n",
            "Requirement already satisfied: certifi>=2017.4.17 in /usr/local/lib/python3.11/dist-packages (from requests<3,>=2.21.0->tensorflow) (2025.4.26)\n",
            "Requirement already satisfied: markdown>=2.6.8 in /usr/local/lib/python3.11/dist-packages (from tensorboard<2.19,>=2.18->tensorflow) (3.8)\n",
            "Requirement already satisfied: tensorboard-data-server<0.8.0,>=0.7.0 in /usr/local/lib/python3.11/dist-packages (from tensorboard<2.19,>=2.18->tensorflow) (0.7.2)\n",
            "Requirement already satisfied: werkzeug>=1.0.1 in /usr/local/lib/python3.11/dist-packages (from tensorboard<2.19,>=2.18->tensorflow) (3.1.3)\n",
            "Requirement already satisfied: MarkupSafe>=2.1.1 in /usr/local/lib/python3.11/dist-packages (from werkzeug>=1.0.1->tensorboard<2.19,>=2.18->tensorflow) (3.0.2)\n",
            "Requirement already satisfied: markdown-it-py>=2.2.0 in /usr/local/lib/python3.11/dist-packages (from rich->keras>=3.5.0->tensorflow) (3.0.0)\n",
            "Requirement already satisfied: pygments<3.0.0,>=2.13.0 in /usr/local/lib/python3.11/dist-packages (from rich->keras>=3.5.0->tensorflow) (2.19.1)\n",
            "Requirement already satisfied: mdurl~=0.1 in /usr/local/lib/python3.11/dist-packages (from markdown-it-py>=2.2.0->rich->keras>=3.5.0->tensorflow) (0.1.2)\n"
          ]
        }
      ],
      "source": [
        "# Instalacija PySwarms biblioteke za optimizaciju roja čestica\n",
        "!pip install pyswarms\n",
        "\n",
        "# Instalacija TensorFlow biblioteke. Keras je njen sastavni dio i potreban nam je\n",
        "# za funkciju gubitka (CategoricalCrossentropy).\n",
        "!pip install tensorflow"
      ]
    },
    {
      "cell_type": "code",
      "source": [
        "# Osnovne biblioteke\n",
        "import numpy as np\n",
        "import pyswarms as ps\n",
        "\n",
        "# Moduli iz Scikit-learn biblioteke za učitavanje Iris dataseta\n",
        "# i podjelu podataka na trening i testni skup\n",
        "from sklearn.datasets import load_iris\n",
        "from sklearn.model_selection import train_test_split\n",
        "\n",
        "# Modul iz Keras (TensorFlow) biblioteke za funkciju gubitka\n",
        "from tensorflow.keras import losses\n",
        "\n",
        "# Podešavanje da NumPy ne ispisuje brojeve u scientific notaciji radi lakšeg čitanja\n",
        "np.set_printoptions(suppress=True)"
      ],
      "metadata": {
        "colab": {
          "base_uri": "https://localhost:8080/"
        },
        "id": "Py47Bon841Cd",
        "outputId": "b5c3d157-79c3-4f14-eeb9-3898e8bc3df6"
      },
      "execution_count": 2,
      "outputs": [
        {
          "output_type": "stream",
          "name": "stderr",
          "text": [
            "2025-06-13 20:03:40,129 - numexpr.utils - INFO - NumExpr defaulting to 2 threads.\n"
          ]
        }
      ]
    },
    {
      "cell_type": "code",
      "source": [
        "# Učitavanje Iris dataseta\n",
        "data = load_iris()\n",
        "\n",
        "# Odvajanje značajki (X) i labela (y)\n",
        "X = data.data\n",
        "y_original = data.target\n",
        "\n",
        "# Kreiranje nove matrice za one-hot enkodirane labele\n",
        "y = np.zeros((y_original.shape[0], 3))\n",
        "for i in range(y_original.shape[0]):\n",
        "    y[i, y_original[i]] = 1\n",
        "\n",
        "# Podjela podataka na trening (70%) i testni (30%) skup\n",
        "X_train, X_test, y_train, y_test = train_test_split(X, y, test_size=0.3, random_state=42)\n",
        "\n",
        "print(\"Dimenzije trening skupa (značajke):\", X_train.shape)\n",
        "print(\"Dimenzije trening skupa (labele):\", y_train.shape)\n",
        "print(\"Dimenzije testnog skupa (značajke):\", X_test.shape)\n",
        "print(\"Dimenzije testnog skupa (labele):\", y_test.shape)"
      ],
      "metadata": {
        "colab": {
          "base_uri": "https://localhost:8080/"
        },
        "id": "JGYgPrp45A0C",
        "outputId": "9438d695-25b1-41aa-f3e8-61e7d0c1926c"
      },
      "execution_count": 3,
      "outputs": [
        {
          "output_type": "stream",
          "name": "stdout",
          "text": [
            "Dimenzije trening skupa (značajke): (105, 4)\n",
            "Dimenzije trening skupa (labele): (105, 3)\n",
            "Dimenzije testnog skupa (značajke): (45, 4)\n",
            "Dimenzije testnog skupa (labele): (45, 3)\n"
          ]
        }
      ]
    },
    {
      "cell_type": "code",
      "source": [
        "# Hiperparametri neuronske mreže\n",
        "n_inputs = 4\n",
        "n_hidden = 20\n",
        "n_classes = 3\n",
        "num_samples = X_train.shape[0]\n",
        "\n",
        "def probs_function(p, X_data):\n",
        "    \"\"\"\n",
        "    Forward pass kroz neuronsku mrežu.\n",
        "    Argumenti:\n",
        "        p: Čestica (1D niz) koja sadrži sve težine i otklone.\n",
        "        X_data: Ulazni podaci (npr. X_train).\n",
        "    Vraća:\n",
        "        Matricu vjerovatnoća za svaku klasu.\n",
        "    \"\"\"\n",
        "    # Izdvajanje težina i otklona iz čestice 'p'\n",
        "    W1 = p[0:80].reshape((n_inputs, n_hidden))\n",
        "    b1 = p[80:100].reshape((n_hidden,))\n",
        "    W2 = p[100:160].reshape((n_hidden, n_classes))\n",
        "    b2 = p[160:163].reshape((n_classes,))\n",
        "\n",
        "    # Propagacija kroz mrežu\n",
        "    z1 = X_data.dot(W1) + b1\n",
        "    a1 = np.tanh(z1)  # Aktivacijska funkcija skrivenog sloja\n",
        "    logits = a1.dot(W2) + b2\n",
        "\n",
        "    # Softmax aktivacijska funkcija za izlazni sloj\n",
        "    exp_scores = np.exp(logits)\n",
        "    probs = exp_scores / np.sum(exp_scores, axis=1, keepdims=True)\n",
        "\n",
        "    return probs"
      ],
      "metadata": {
        "id": "Fd3Rb4925FNv"
      },
      "execution_count": 4,
      "outputs": []
    },
    {
      "cell_type": "code",
      "source": [
        "def forward_prop(params):\n",
        "    \"\"\"\n",
        "    Pomoćna funkcija koja računa gubitak (loss) za jednu česticu.\n",
        "    \"\"\"\n",
        "    # Računanje vjerovatnoća pomoću trening podataka\n",
        "    probs = probs_function(params, X_train)\n",
        "\n",
        "    # Korištenje kategoričke unakrsne entropije kao funkcije gubitka\n",
        "    cce = losses.CategoricalCrossentropy()\n",
        "    loss = cce(y_train, probs).numpy()\n",
        "\n",
        "    return loss\n",
        "\n",
        "def f(x):\n",
        "    \"\"\"\n",
        "    Objektivna funkcija za PSO. Računa gubitak za sve čestice u roju.\n",
        "    Argument:\n",
        "        x: Matrica koja sadrži sve čestice u roju (dimenzije: [n_particles, n_dimensions]).\n",
        "    Vraća:\n",
        "        Niz gubitaka, po jedan za svaku česticu.\n",
        "    \"\"\"\n",
        "    n_particles = x.shape[0]\n",
        "    # Izračunaj gubitak za svaku česticu koristeći list comprehension\n",
        "    values = [forward_prop(x[i]) for i in range(n_particles)]\n",
        "    return np.array(values)"
      ],
      "metadata": {
        "id": "-LlWIgsq5OSN"
      },
      "execution_count": 5,
      "outputs": []
    },
    {
      "cell_type": "code",
      "source": [
        "%%time\n",
        "\n",
        "# PSO hiperparametri\n",
        "options = {'c1': 0.5, 'c2': 0.3, 'w': 0.9}\n",
        "\n",
        "# Računanje dimenzije jedne čestice (ukupan broj težina i otklona)\n",
        "dimensions = (n_inputs * n_hidden) + (n_hidden * n_classes) + n_hidden + n_classes\n",
        "\n",
        "# Kreiranje instance PSO optimizatora\n",
        "# n_particles=100 znači da će roj imati 100 čestica\n",
        "optimizer = ps.single.GlobalBestPSO(n_particles=100, dimensions=dimensions, options=options)\n",
        "\n",
        "# Pokretanje procesa optimizacije\n",
        "# iters=100 znači da će algoritam proći kroz 100 iteracija\n",
        "cost, pos = optimizer.optimize(f, iters=100)\n",
        "\n",
        "print(f\"\\nNajmanji postignuti trošak (loss): {cost}\")\n",
        "print(f\"Broj parametara (dimenzija) u najboljoj čestici: {len(pos)}\")"
      ],
      "metadata": {
        "colab": {
          "base_uri": "https://localhost:8080/"
        },
        "id": "xSHVBz9d5R84",
        "outputId": "4b93355f-1061-4ee3-efef-027dbbef0377"
      },
      "execution_count": 6,
      "outputs": [
        {
          "output_type": "stream",
          "name": "stderr",
          "text": [
            "2025-06-13 20:04:57,129 - pyswarms.single.global_best - INFO - Optimize for 100 iters with {'c1': 0.5, 'c2': 0.3, 'w': 0.9}\n",
            "pyswarms.single.global_best: 100%|██████████|100/100, best_cost=0.106\n",
            "2025-06-13 20:05:34,872 - pyswarms.single.global_best - INFO - Optimization finished | best cost: 0.10564613342285156, best pos: [-0.70803776  2.36545153 -0.02117014 -1.11263518  1.65412502 -1.03944382\n",
            " -0.18020292  1.08266859 -0.173056    0.3191151  -0.58113787  0.53096837\n",
            " -0.11677524 -0.192576    0.08626154  0.57636799  0.10487705  0.31901811\n",
            "  0.56839214 -0.55235788  0.37366269 -0.92545621  1.45156266 -0.19607175\n",
            "  0.29438963  0.87689724 -0.20876876 -0.0024108  -0.54209594  0.51719748\n",
            "  1.17061584  0.90420202 -1.13025871  0.10896095 -0.4948527   0.64612664\n",
            "  0.06999273  0.31215779 -0.87896002 -0.44421015  0.98997795 -0.27290388\n",
            " -0.69930516  1.1673889   0.91829371  1.1911379   1.91624221  0.41858415\n",
            "  1.59055973  1.26790319  1.53193906  1.68421792  0.76033493  0.39992946\n",
            "  0.50524277 -0.27374583 -0.15634921 -1.07766076  0.40679636  1.03292444\n",
            "  0.01041384  1.00783624  1.23460576  1.54497542  0.19959625  0.06740051\n",
            " -0.64127078 -0.09594062 -0.22406279  0.27041019  0.47594642  0.26946466\n",
            "  0.62028853  0.47025187  0.35322247 -0.09043719  0.22893731  2.39973733\n",
            " -0.78253723 -0.0247959   0.33774607  0.73728303  0.86832134 -0.81857759\n",
            " -0.72669377  0.81245814 -0.23623903  1.19156431 -1.39012455 -0.46301896\n",
            "  0.72550396  0.30820709  0.1116183  -1.66173791 -0.04680268  0.836187\n",
            " -0.64338837  0.74166985  0.59050511 -0.10170266  0.11812289  1.94471624\n",
            "  0.8865472   0.4116451  -0.12943085  1.56786345  1.25826031 -0.05744187\n",
            " -0.13885749 -0.04035543 -0.08788872  1.84519169  1.59329024  0.14773823\n",
            " -0.05780039 -0.0736273   0.13395689 -0.09738419  1.00597323 -0.01137177\n",
            "  0.50941324  0.16127217 -0.30834229 -0.64904474 -0.6362828   1.15172106\n",
            " -0.58203991  0.15626929 -0.4163259   0.02717096  0.12982704  0.8280589\n",
            "  0.30468119 -1.22526816  0.50978111  0.96775299 -0.39076587  0.65697852\n",
            "  0.9436344  -1.4801445  -0.18271894  1.31878002  0.63694467  0.82704712\n",
            "  0.64688946 -0.57754599  0.4388952  -0.00202043 -1.16377395 -1.76235166\n",
            " -0.81227416 -0.72959011  1.10662578  0.27671302 -1.35428456  0.12571461\n",
            "  0.33119969  0.71341314  0.22329383  4.64532828  0.33728811 -0.84627324\n",
            "  0.15265115]\n"
          ]
        },
        {
          "output_type": "stream",
          "name": "stdout",
          "text": [
            "\n",
            "Najmanji postignuti trošak (loss): 0.10564613342285156\n",
            "Broj parametara (dimenzija) u najboljoj čestici: 163\n",
            "CPU times: user 34.1 s, sys: 1.61 s, total: 35.7 s\n",
            "Wall time: 37.8 s\n"
          ]
        }
      ]
    },
    {
      "cell_type": "code",
      "source": [
        "def predict(position, X_data):\n",
        "    \"\"\"\n",
        "    Koristi najbolju pronađenu česticu (poziciju) za predikciju na novim podacima.\n",
        "    \"\"\"\n",
        "    probs = probs_function(position, X_data)\n",
        "    return probs\n",
        "\n",
        "# Izračunavanje tačnosti na testnom skupu\n",
        "# 1. Dobijamo predikcije (vjerovatnoće) za testni skup\n",
        "predictions = predict(pos, X_test)\n",
        "# 2. Zaokružujemo vjerovatnoće da dobijemo one-hot predikcije (npr. [0.1, 0.8, 0.1] -> [0, 1, 0])\n",
        "rounded_predictions = np.round(predictions).astype('int')\n",
        "# 3. Poredimo predikcije sa stvarnim labelama i računamo prosječnu tačnost\n",
        "accuracy = (rounded_predictions == y_test).all(axis=1).mean()\n",
        "\n",
        "print(f\"\\nTačnost modela na testnom skupu: {accuracy * 100:.2f}%\")"
      ],
      "metadata": {
        "colab": {
          "base_uri": "https://localhost:8080/"
        },
        "id": "SI7TP_cs5W3T",
        "outputId": "dbe3d753-b27d-401b-e68a-882e6b7bd51b"
      },
      "execution_count": 7,
      "outputs": [
        {
          "output_type": "stream",
          "name": "stdout",
          "text": [
            "\n",
            "Tačnost modela na testnom skupu: 100.00%\n"
          ]
        }
      ]
    }
  ]
}