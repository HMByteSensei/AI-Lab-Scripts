{
  "nbformat": 4,
  "nbformat_minor": 0,
  "metadata": {
    "colab": {
      "provenance": []
    },
    "kernelspec": {
      "name": "python3",
      "display_name": "Python 3"
    },
    "language_info": {
      "name": "python"
    }
  },
  "cells": [
    {
      "cell_type": "code",
      "execution_count": null,
      "metadata": {
        "colab": {
          "base_uri": "https://localhost:8080/"
        },
        "id": "Y77a4eWoz5U3",
        "outputId": "59b70bd3-69b5-44b0-9ffe-2b5663ee4783"
      },
      "outputs": [
        {
          "output_type": "stream",
          "name": "stdout",
          "text": [
            "  Label                                            Message\n",
            "0  Spam  <p>But could then once pomp to nor that glee g...\n",
            "1  Spam  <p>His honeyed and land vile are so and native...\n",
            "2  Spam  <p>Tear womans his was by had tis her eremites...\n",
            "\n",
            "Kolone u skupu podataka su:\n",
            "['Label', 'Message']\n"
          ]
        }
      ],
      "source": [
        "import pandas as pd\n",
        "\n",
        "df = pd.read_csv('SpamDetectionData.txt')\n",
        "\n",
        "print(df.head(3))\n",
        "\n",
        "print(\"\\nKolone u skupu podataka su:\")\n",
        "print(df.columns.tolist())\n"
      ]
    },
    {
      "cell_type": "code",
      "source": [
        "import re\n",
        "X = df['Message']\n",
        "y = df['Label']\n",
        "\n",
        "# Uklanjanje HTML tagova <p> i </p> iz poruka\n",
        "X_cleaned = X.str.replace('<p>', '', regex=False).str.replace('</p>', '', regex=False)\n",
        "\n",
        "def broj_slova(text):\n",
        "    return len(re.findall(r'[A-Za-z]', text))\n",
        "\n",
        "broj_slova_prva = broj_slova(X_cleaned.iloc[0])\n",
        "broj_slova_druga = broj_slova(X_cleaned.iloc[1])\n",
        "\n",
        "print(f\"Broj slova u prvoj poruci: {broj_slova_prva}\")\n",
        "print(f\"Broj slova u drugoj poruci: {broj_slova_druga}\")"
      ],
      "metadata": {
        "colab": {
          "base_uri": "https://localhost:8080/"
        },
        "id": "vEyugXpa064f",
        "outputId": "de087f8c-c89e-439b-b783-89fe33d1e33f"
      },
      "execution_count": null,
      "outputs": [
        {
          "output_type": "stream",
          "name": "stdout",
          "text": [
            "Broj slova u prvoj poruci: 329\n",
            "Broj slova u drugoj poruci: 687\n"
          ]
        }
      ]
    },
    {
      "cell_type": "code",
      "source": [
        "from sklearn.model_selection import train_test_split\n",
        "\n",
        "X_train, X_test, y_train, y_test = train_test_split(X, y, test_size=0.1, random_state=42)\n"
      ],
      "metadata": {
        "id": "JTi-5fqO1xy6"
      },
      "execution_count": null,
      "outputs": []
    },
    {
      "cell_type": "code",
      "source": [
        "# d\n",
        "from tensorflow.keras.preprocessing.text import Tokenizer\n",
        "\n",
        "tokenizer = Tokenizer()\n",
        "tokenizer.fit_on_texts(X_train)  # Generira vokabular na osnovu trening podataka\n",
        "\n",
        "# pretvaranje txta u nizove cijelih brojeva\n",
        "X_train_seq = tokenizer.texts_to_sequences(X_train)\n",
        "X_test_seq = tokenizer.texts_to_sequences(X_test)\n",
        "\n",
        "# rječnik {riječ: indeks}\n",
        "word_counts = tokenizer.word_counts\n",
        "\n",
        "# 3 najčesce riječi\n",
        "najcesce = sorted(word_counts.items(), key=lambda x: x[1], reverse=True)[:3]\n",
        "print(\"Tri najčešće riječi su:\", najcesce)\n",
        "\n",
        "print(\"Prva rečenica iz trening skupa:\", X_train.iloc[0])\n",
        "print(\"Tokenizovana verzija:\", X_train_seq[0])\n"
      ],
      "metadata": {
        "colab": {
          "base_uri": "https://localhost:8080/"
        },
        "id": "Xk7FP9EJ2JAQ",
        "outputId": "1a155113-5da6-44c5-f684-65c3cce6e7f1"
      },
      "execution_count": null,
      "outputs": [
        {
          "output_type": "stream",
          "name": "stdout",
          "text": [
            "Tri najčešće riječi su: [('the', 23042), ('and', 19393), ('of', 11189)]\n",
            "Prva rečenica iz trening skupa: <p>Fluttered dreary a the of yore stock and curious we many wore the the radiant bust tapping sir this. The ghost distinctly and quoth angels the chamber broken or ghost sitting grave its this. The dreaming and art when adore and moment then and lord she lent i quoth adore tell mystery mefilled. Still nevermore the fiery above rare hath ever my and.</p><p>Lining each no peering mefilled token and one ghastly the. The seraphim the on the flutter there in to sad desolate gently many then my little. Name napping above said pondered from while.</p><p>Stood unseen came plume my horror there nevermore caught flitting again a still get or and thy muttered. Had to divining hath whether implore and human balm all it by guessing here have curtain such here. Explore my implore beating sitting. But nevermore tempter before sent my sought our for have. Till on grave censer this with into merely air entreating beguiling whispered prophet i. Flown he by out and nameless i this of is some was and be. Above from hopes of unhappy word beak raven nothing grim ghastly whom fearing a by front. Its the memories. Chamber soul i have tossed nevermore desolate what. Door with sitting. That some that i came hesitating all see utters turning that unbroken in gently muttered in i sat my. The lenore art whispered shutter here tell my many entrance the sorrowsorrow. Soul wrought till take terrors mystery thy chamber came stock parting so my turning and sent kind the.</p>\n",
            "Tokenizovana verzija: [6, 335, 383, 4, 1, 3, 118, 253, 2, 662, 222, 108, 417, 1, 1, 132, 53, 66, 238, 13, 1, 488, 556, 2, 69, 82, 1, 19, 720, 18, 488, 115, 731, 87, 13, 1, 177, 2, 348, 152, 368, 2, 478, 33, 2, 585, 165, 535, 5, 69, 368, 199, 221, 439, 39, 31, 1, 324, 49, 210, 218, 81, 8, 2, 6, 6, 127, 95, 44, 751, 439, 186, 2, 41, 153, 1, 1, 628, 1, 20, 1, 643, 35, 12, 7, 70, 735, 223, 108, 33, 8, 200, 45, 206, 49, 42, 239, 15, 148, 6, 6, 183, 336, 120, 629, 8, 401, 35, 31, 163, 557, 278, 4, 39, 294, 18, 2, 32, 174, 26, 7, 273, 218, 156, 110, 2, 785, 586, 54, 34, 24, 767, 90, 84, 479, 178, 90, 224, 8, 110, 384, 115, 14, 31, 736, 50, 128, 8, 225, 717, 25, 84, 124, 20, 731, 587, 13, 30, 48, 259, 265, 141, 149, 196, 160, 5, 164, 11, 24, 146, 2, 718, 5, 13, 3, 22, 58, 16, 2, 57, 49, 15, 739, 3, 521, 67, 595, 29, 51, 214, 153, 68, 765, 4, 24, 349, 87, 1, 771, 19, 43, 5, 84, 756, 31, 735, 52, 17, 30, 115, 9, 58, 9, 5, 120, 337, 54, 678, 385, 450, 9, 407, 12, 223, 174, 12, 5, 98, 8, 1, 38, 348, 196, 644, 90, 199, 8, 108, 189, 1, 570, 43, 350, 124, 94, 369, 221, 32, 19, 120, 253, 135, 40, 8, 450, 2, 128, 663, 1, 6]\n"
          ]
        }
      ]
    },
    {
      "cell_type": "code",
      "source": [
        "# e\n",
        "import numpy as np\n",
        "\n",
        "#Pravi matricu dimenzija broj_rečenica x dimension\n",
        "def vectorize_sequences(sequences, dimension=4000):\n",
        "    results = np.zeros((len(sequences), dimension))\n",
        "    for i, sequence in enumerate(sequences):\n",
        "        for index in sequence:\n",
        "            if index < dimension:  # Osiguraj da je index u granici\n",
        "                results[i, index] = 1.0\n",
        "    return results\n",
        "\n",
        "# Pretvara svaku riječ u broj\n",
        "def vectorize_labels(labels):\n",
        "    return np.array([1 if label == 'spam' else 0 for label in labels])\n",
        "\n",
        "X_train_vec = vectorize_sequences(X_train_seq, dimension=4000)\n",
        "X_test_vec = vectorize_sequences(X_test_seq, dimension=4000)\n",
        "\n",
        "y_train_vec = vectorize_labels(y_train)\n",
        "y_test_vec = vectorize_labels(y_test)\n",
        "\n",
        "print(\"Prva vektorizovana rečenica:\", X_train_vec[0])\n",
        "print(\"Labela (0 = ham, 1 = spam):\", y_train_vec[0])"
      ],
      "metadata": {
        "colab": {
          "base_uri": "https://localhost:8080/"
        },
        "id": "wKN14a-q27hJ",
        "outputId": "5c179ece-d53c-4345-b739-0db3137484ce"
      },
      "execution_count": null,
      "outputs": [
        {
          "output_type": "stream",
          "name": "stdout",
          "text": [
            "Prva vektorizovana rečenica: [0. 1. 1. ... 0. 0. 0.]\n",
            "Labela (0 = ham, 1 = spam): 0\n"
          ]
        }
      ]
    },
    {
      "cell_type": "code",
      "source": [
        "# f\n",
        "from tensorflow.keras.models import Sequential\n",
        "from tensorflow.keras.layers import Dense\n",
        "\n",
        "model = Sequential([\n",
        "    Dense(8, activation='relu', input_shape=(4000,)),\n",
        "    Dense(8, activation='relu'),\n",
        "    Dense(1, activation='sigmoid')\n",
        "])"
      ],
      "metadata": {
        "colab": {
          "base_uri": "https://localhost:8080/"
        },
        "id": "NFVE3p3J3tH9",
        "outputId": "32d979e9-fb41-42d5-876d-97a6de7f32cf"
      },
      "execution_count": null,
      "outputs": [
        {
          "output_type": "stream",
          "name": "stderr",
          "text": [
            "/usr/local/lib/python3.11/dist-packages/keras/src/layers/core/dense.py:87: UserWarning: Do not pass an `input_shape`/`input_dim` argument to a layer. When using Sequential models, prefer using an `Input(shape)` object as the first layer in the model instead.\n",
            "  super().__init__(activity_regularizer=activity_regularizer, **kwargs)\n"
          ]
        }
      ]
    },
    {
      "cell_type": "code",
      "source": [
        "# g kompajliranje modela\n",
        "model.compile(\n",
        "    optimizer='rmsprop',\n",
        "    loss='binary_crossentropy',\n",
        "    metrics=['accuracy']\n",
        ")"
      ],
      "metadata": {
        "id": "i3t54JIp34VU",
        "outputId": "2750cada-bd29-4e04-ad94-d1a6dec5aaba",
        "colab": {
          "base_uri": "https://localhost:8080/",
          "height": 215
        }
      },
      "execution_count": null,
      "outputs": [
        {
          "output_type": "error",
          "ename": "NameError",
          "evalue": "name 'model' is not defined",
          "traceback": [
            "\u001b[0;31m---------------------------------------------------------------------------\u001b[0m",
            "\u001b[0;31mNameError\u001b[0m                                 Traceback (most recent call last)",
            "\u001b[0;32m<ipython-input-1-82e41e5921eb>\u001b[0m in \u001b[0;36m<cell line: 0>\u001b[0;34m()\u001b[0m\n\u001b[1;32m      1\u001b[0m \u001b[0;31m# g kompajliranje modela\u001b[0m\u001b[0;34m\u001b[0m\u001b[0;34m\u001b[0m\u001b[0m\n\u001b[0;32m----> 2\u001b[0;31m model.compile(\n\u001b[0m\u001b[1;32m      3\u001b[0m     \u001b[0moptimizer\u001b[0m\u001b[0;34m=\u001b[0m\u001b[0;34m'rmsprop'\u001b[0m\u001b[0;34m,\u001b[0m\u001b[0;34m\u001b[0m\u001b[0;34m\u001b[0m\u001b[0m\n\u001b[1;32m      4\u001b[0m     \u001b[0mloss\u001b[0m\u001b[0;34m=\u001b[0m\u001b[0;34m'binary_crossentropy'\u001b[0m\u001b[0;34m,\u001b[0m\u001b[0;34m\u001b[0m\u001b[0;34m\u001b[0m\u001b[0m\n\u001b[1;32m      5\u001b[0m     \u001b[0mmetrics\u001b[0m\u001b[0;34m=\u001b[0m\u001b[0;34m[\u001b[0m\u001b[0;34m'accuracy'\u001b[0m\u001b[0;34m]\u001b[0m\u001b[0;34m\u001b[0m\u001b[0;34m\u001b[0m\u001b[0m\n",
            "\u001b[0;31mNameError\u001b[0m: name 'model' is not defined"
          ]
        }
      ]
    },
    {
      "cell_type": "code",
      "source": [
        "# h\n",
        "# Treeniranje modela\n",
        "# Definiraj broj dimenzija\n",
        "dimension = 4000\n",
        "# vektoriziranje ulazne podatke\n",
        "X_train_sequences = tokenizer.texts_to_sequences(X_train)\n",
        "X_test_sequences = tokenizer.texts_to_sequences(X_test)\n",
        "\n",
        "# Vektoriziraj podatke\n",
        "X_train_vectorized = vectorize_sequences(X_train_sequences, dimension)\n",
        "X_test_vectorized = vectorize_sequences(X_test_sequences, dimension)\n",
        "\n",
        "\n",
        "# vektoriziraj oznake\n",
        "y_train_vectorized = vectorize_labels(y_train)\n",
        "y_test_vectorized = vectorize_labels(y_test)\n",
        "\n",
        "history = model.fit(\n",
        "    X_train_vectorized, y_train_vectorized,  # Trening podaci i njihove etikete\n",
        "    epochs=5,  # Broj epoha\n",
        "    batch_size=128,  # Veličina batcha\n",
        "    validation_split=0.3,  # 30% podataka se koristi za validaciju\n",
        "    verbose=1  # Prikazuje napredak treniranja\n",
        ")\n",
        "\n",
        "# Prikaz grafova\n",
        "import matplotlib.pyplot as plt\n",
        "\n",
        "# grafički prikaz tačnosti\n",
        "plt.plot(history.history['accuracy'], label='Train Accuracy')\n",
        "plt.plot(history.history['val_accuracy'], label='Validation Accuracy')\n",
        "plt.title('Tačnost tokom treniranja')\n",
        "plt.xlabel('Epoke')\n",
        "plt.ylabel('Tačnost')\n",
        "plt.legend()\n",
        "plt.show()\n",
        "\n",
        "# Grafički prikaz funkcije gubitka\n",
        "plt.plot(history.history['loss'], label='Train Loss')\n",
        "plt.plot(history.history['val_loss'], label='Validation Loss')\n",
        "plt.title('Gubitak tokom treniranja')\n",
        "plt.xlabel('Epoke')\n",
        "plt.ylabel('Gubitak')\n",
        "plt.legend()\n",
        "plt.show()"
      ],
      "metadata": {
        "colab": {
          "base_uri": "https://localhost:8080/",
          "height": 215
        },
        "id": "XD6vpcHg3_Sj",
        "outputId": "a4b76af1-0877-4f15-c0ff-9aae1c7bdc1a"
      },
      "execution_count": null,
      "outputs": [
        {
          "output_type": "error",
          "ename": "NameError",
          "evalue": "name 'tokenizer' is not defined",
          "traceback": [
            "\u001b[0;31m---------------------------------------------------------------------------\u001b[0m",
            "\u001b[0;31mNameError\u001b[0m                                 Traceback (most recent call last)",
            "\u001b[0;32m<ipython-input-2-108a704f1a9b>\u001b[0m in \u001b[0;36m<cell line: 0>\u001b[0;34m()\u001b[0m\n\u001b[1;32m      4\u001b[0m \u001b[0mdimension\u001b[0m \u001b[0;34m=\u001b[0m \u001b[0;36m4000\u001b[0m\u001b[0;34m\u001b[0m\u001b[0;34m\u001b[0m\u001b[0m\n\u001b[1;32m      5\u001b[0m \u001b[0;31m# vektoriziranje ulazne podatke\u001b[0m\u001b[0;34m\u001b[0m\u001b[0;34m\u001b[0m\u001b[0m\n\u001b[0;32m----> 6\u001b[0;31m \u001b[0mX_train_sequences\u001b[0m \u001b[0;34m=\u001b[0m \u001b[0mtokenizer\u001b[0m\u001b[0;34m.\u001b[0m\u001b[0mtexts_to_sequences\u001b[0m\u001b[0;34m(\u001b[0m\u001b[0mX_train\u001b[0m\u001b[0;34m)\u001b[0m\u001b[0;34m\u001b[0m\u001b[0;34m\u001b[0m\u001b[0m\n\u001b[0m\u001b[1;32m      7\u001b[0m \u001b[0mX_test_sequences\u001b[0m \u001b[0;34m=\u001b[0m \u001b[0mtokenizer\u001b[0m\u001b[0;34m.\u001b[0m\u001b[0mtexts_to_sequences\u001b[0m\u001b[0;34m(\u001b[0m\u001b[0mX_test\u001b[0m\u001b[0;34m)\u001b[0m\u001b[0;34m\u001b[0m\u001b[0;34m\u001b[0m\u001b[0m\n\u001b[1;32m      8\u001b[0m \u001b[0;34m\u001b[0m\u001b[0m\n",
            "\u001b[0;31mNameError\u001b[0m: name 'tokenizer' is not defined"
          ]
        }
      ]
    },
    {
      "cell_type": "code",
      "source": [
        "# i evaluacija modela\n",
        "test_loss, test_accuracy = model.evaluate(X_test_vectorized, y_test_vectorized)\n",
        "\n",
        "print(f\"Testna tačnost: {test_accuracy:.4f}\")\n",
        "print(f\"Testni gubitak: {test_loss:.4f}\")"
      ],
      "metadata": {
        "colab": {
          "base_uri": "https://localhost:8080/"
        },
        "id": "onKRXjcX4646",
        "outputId": "ccf8b370-6fc9-4593-86b9-99689bdf3f01"
      },
      "execution_count": null,
      "outputs": [
        {
          "output_type": "stream",
          "name": "stdout",
          "text": [
            "\u001b[1m7/7\u001b[0m \u001b[32m━━━━━━━━━━━━━━━━━━━━\u001b[0m\u001b[37m\u001b[0m \u001b[1m0s\u001b[0m 9ms/step - accuracy: 1.0000 - loss: 0.0029 \n",
            "Testna tačnost: 1.0000\n",
            "Testni gubitak: 0.0031\n"
          ]
        }
      ]
    },
    {
      "cell_type": "code",
      "source": [
        "# j\n",
        "new_message = \"Ovo je moj primjer neke spam spam poruke!\"\n",
        "\n",
        "new_message_tokenized = tokenizer.texts_to_sequences([new_message])\n",
        "\n",
        "# Vektorizacija poruke (koristim iste parametre kao za treniranje)\n",
        "new_message_vectorized = vectorize_sequences(new_message_tokenized, dimension=4000)\n",
        "\n",
        "prediction = model.predict(new_message_vectorized)\n",
        "\n",
        "# Ispis rezultata\n",
        "if prediction >= 0.5:\n",
        "    print(\"Poruka je klasifikovana kao SPAM.\")\n",
        "else:\n",
        "    print(\"Poruka je klasifikovana kao HAM.\")"
      ],
      "metadata": {
        "colab": {
          "base_uri": "https://localhost:8080/"
        },
        "id": "LQwl8OP95LSq",
        "outputId": "976234de-b8ac-418e-9c45-5db2e392162d"
      },
      "execution_count": null,
      "outputs": [
        {
          "output_type": "stream",
          "name": "stdout",
          "text": [
            "\u001b[1m1/1\u001b[0m \u001b[32m━━━━━━━━━━━━━━━━━━━━\u001b[0m\u001b[37m\u001b[0m \u001b[1m0s\u001b[0m 42ms/step\n",
            "Poruka je klasifikovana kao HAM.\n"
          ]
        }
      ]
    },
    {
      "cell_type": "code",
      "source": [
        "# 2\n",
        "# a\n",
        "import pandas as pd\n",
        "df = pd.read_csv('stackoverflow.csv')\n",
        "\n",
        "print(df.tail(3))"
      ],
      "metadata": {
        "colab": {
          "base_uri": "https://localhost:8080/"
        },
        "id": "k00q8cR_59cq",
        "outputId": "84648fed-f54f-4541-91b0-b05e54bdba48"
      },
      "execution_count": null,
      "outputs": [
        {
          "output_type": "stream",
          "name": "stdout",
          "text": [
            "                                                   post  tags\n",
            "1987  directory folder name to put user defined pack...  java\n",
            "1988  send message to server java  i m creating chat...  java\n",
            "1989  how to add pattern of  *  is url-pattern in we...  java\n"
          ]
        }
      ]
    },
    {
      "cell_type": "code",
      "source": [
        "# b\n",
        "import pandas as pd\n",
        "df = pd.read_csv('stackoverflow.csv')\n",
        "X = df['post']  # Izdvajanje pitanja i\n",
        "y = df['tags']  # i programskih jezika (labela)\n",
        "\n",
        "unique_labels = y.unique()\n",
        "num_unique_labels = len(unique_labels)\n",
        "print(f'Jedinstveni jezici: {unique_labels}')\n",
        "print(f'Broj jedinstvenih jezika: {num_unique_labels}')"
      ],
      "metadata": {
        "colab": {
          "base_uri": "https://localhost:8080/"
        },
        "id": "yLS9_jg-6DIK",
        "outputId": "81d1f571-4d08-46e7-df63-ccd66a2634d3"
      },
      "execution_count": null,
      "outputs": [
        {
          "output_type": "stream",
          "name": "stdout",
          "text": [
            "Jedinstveni jezici: ['java' 'javascript' 'c#' 'python']\n",
            "Broj jedinstvenih jezika: 4\n"
          ]
        }
      ]
    },
    {
      "cell_type": "code",
      "source": [
        "# c\n",
        "from sklearn.preprocessing import LabelEncoder\n",
        "from keras.utils import to_categorical\n",
        "\n",
        "\n",
        "y = df['tags']\n",
        "\n",
        "# 1. Label Encoding tj mapiranje tekstualnih labela u cijele brojeve\n",
        "label_encoder = LabelEncoder()\n",
        "y_encoded = label_encoder.fit_transform(y)\n",
        "\n",
        "# 2. One-hot enkodiranje\n",
        "y_one_hot = to_categorical(y_encoded)\n",
        "\n",
        "print(f\"Prvih 5 labela nakon one-hot enkodiranja:\\n\", y_one_hot[:5])\n"
      ],
      "metadata": {
        "colab": {
          "base_uri": "https://localhost:8080/"
        },
        "id": "_JdxdScT6t-0",
        "outputId": "eb6aa197-71af-4de6-d92d-ee8b9b9cf9ce"
      },
      "execution_count": null,
      "outputs": [
        {
          "output_type": "stream",
          "name": "stdout",
          "text": [
            "Prvih 5 labela nakon one-hot enkodiranja:\n",
            " [[0. 1. 0. 0.]\n",
            " [0. 0. 1. 0.]\n",
            " [1. 0. 0. 0.]\n",
            " [0. 0. 0. 1.]\n",
            " [0. 1. 0. 0.]]\n"
          ]
        }
      ]
    },
    {
      "cell_type": "code",
      "source": [
        "# d\n",
        "X_train, X_test, y_train, y_test = train_test_split(X, y, test_size=0.1, random_state=42)\n",
        "\n",
        "print(f'Veličina trening skupa: {len(X_train)}')\n",
        "print(f'Veličina test skupa: {len(X_test)}')"
      ],
      "metadata": {
        "colab": {
          "base_uri": "https://localhost:8080/"
        },
        "id": "MnuU0iML7H4B",
        "outputId": "44f9e38c-b87b-42e6-9305-984fe4410f3f"
      },
      "execution_count": null,
      "outputs": [
        {
          "output_type": "stream",
          "name": "stdout",
          "text": [
            "Veličina trening skupa: 1791\n",
            "Veličina test skupa: 199\n"
          ]
        }
      ]
    },
    {
      "cell_type": "code",
      "source": [
        "# e\n",
        "tokenizer = Tokenizer(num_words=500)  # uzima samo 500 najčešćih riječi\n",
        "tokenizer.fit_on_texts(X_train)\n",
        "\n",
        "# Konvertovanje teksta u sekvence brojeva = tokenizacija\n",
        "X_train_sequences = tokenizer.texts_to_sequences(X_train)\n",
        "X_test_sequences = tokenizer.texts_to_sequences(X_test)\n",
        "\n",
        "# Vvektorizacija\n",
        "dimension = 500\n",
        "X_train_vectorized = vectorize_sequences(X_train_sequences, dimension)\n",
        "X_test_vectorized = vectorize_sequences(X_test_sequences, dimension)\n",
        "\n",
        "print(\"Prvih nekoliko vektoriziranih pitanja iz trening skupa:\")\n",
        "print(X_train_vectorized[:3])\n",
        "\n",
        "# One-hot enkodiranje labela ispod\n",
        "from sklearn.preprocessing import LabelEncoder\n",
        "\n",
        "# prvo mapiramo tekstualne labele u brojeve\n",
        "label_encoder = LabelEncoder()\n",
        "y_train_encoded = label_encoder.fit_transform(y_train)\n",
        "y_test_encoded = label_encoder.transform(y_test)\n",
        "\n",
        "# One-hot enkodiranje labela\n",
        "y_train_one_hot = to_categorical(y_train_encoded)\n",
        "y_test_one_hot = to_categorical(y_test_encoded)\n",
        "\n",
        "print(\"\\nOne-hot enkodirane labele za trening skup:\")\n",
        "print(y_train_one_hot[:3])"
      ],
      "metadata": {
        "colab": {
          "base_uri": "https://localhost:8080/"
        },
        "id": "1808OXx37TUm",
        "outputId": "65bd6fcb-30b4-4223-b258-fe9741ab7c1d"
      },
      "execution_count": null,
      "outputs": [
        {
          "output_type": "stream",
          "name": "stdout",
          "text": [
            "Prvih nekoliko vektoriziranih pitanja iz trening skupa:\n",
            "[[0. 1. 1. ... 0. 0. 0.]\n",
            " [0. 1. 1. ... 0. 0. 0.]\n",
            " [0. 0. 1. ... 0. 0. 0.]]\n",
            "\n",
            "One-hot enkodirane labele za trening skup:\n",
            "[[1. 0. 0. 0.]\n",
            " [1. 0. 0. 0.]\n",
            " [0. 0. 1. 0.]]\n"
          ]
        }
      ]
    },
    {
      "cell_type": "code",
      "source": [
        "# f\n",
        "from keras.models import Sequential\n",
        "from keras.layers import Dense\n",
        "\n",
        "num_classes = y_train_one_hot.shape[1]\n",
        "model = Sequential()\n",
        "\n",
        "# Prvi sloj sa 32 neurona\n",
        "model.add(Dense(32, input_dim=X_train_vectorized.shape[1], activation='relu'))\n",
        "\n",
        "# Drugi sloj sa 8 neurona\n",
        "model.add(Dense(8, activation='relu'))\n",
        "\n",
        "# Izlazni sloj sa brojem neurona = broju klasa\n",
        "model.add(Dense(num_classes, activation='softmax'))\n",
        "\n",
        "# g\n",
        "from keras.optimizers import Adam\n",
        "model.compile(optimizer=Adam(), loss='categorical_crossentropy', metrics=['accuracy'])\n",
        "\n",
        "model.summary()\n"
      ],
      "metadata": {
        "colab": {
          "base_uri": "https://localhost:8080/",
          "height": 225
        },
        "id": "gJJcCwKJ7yfg",
        "outputId": "420ee457-9885-4740-d04a-e527295eb946"
      },
      "execution_count": null,
      "outputs": [
        {
          "output_type": "display_data",
          "data": {
            "text/plain": [
              "\u001b[1mModel: \"sequential_2\"\u001b[0m\n"
            ],
            "text/html": [
              "<pre style=\"white-space:pre;overflow-x:auto;line-height:normal;font-family:Menlo,'DejaVu Sans Mono',consolas,'Courier New',monospace\"><span style=\"font-weight: bold\">Model: \"sequential_2\"</span>\n",
              "</pre>\n"
            ]
          },
          "metadata": {}
        },
        {
          "output_type": "display_data",
          "data": {
            "text/plain": [
              "┏━━━━━━━━━━━━━━━━━━━━━━━━━━━━━━━━━━━━━━┳━━━━━━━━━━━━━━━━━━━━━━━━━━━━━┳━━━━━━━━━━━━━━━━━┓\n",
              "┃\u001b[1m \u001b[0m\u001b[1mLayer (type)                        \u001b[0m\u001b[1m \u001b[0m┃\u001b[1m \u001b[0m\u001b[1mOutput Shape               \u001b[0m\u001b[1m \u001b[0m┃\u001b[1m \u001b[0m\u001b[1m        Param #\u001b[0m\u001b[1m \u001b[0m┃\n",
              "┡━━━━━━━━━━━━━━━━━━━━━━━━━━━━━━━━━━━━━━╇━━━━━━━━━━━━━━━━━━━━━━━━━━━━━╇━━━━━━━━━━━━━━━━━┩\n",
              "│ dense_6 (\u001b[38;5;33mDense\u001b[0m)                      │ (\u001b[38;5;45mNone\u001b[0m, \u001b[38;5;34m32\u001b[0m)                  │          \u001b[38;5;34m16,032\u001b[0m │\n",
              "├──────────────────────────────────────┼─────────────────────────────┼─────────────────┤\n",
              "│ dense_7 (\u001b[38;5;33mDense\u001b[0m)                      │ (\u001b[38;5;45mNone\u001b[0m, \u001b[38;5;34m8\u001b[0m)                   │             \u001b[38;5;34m264\u001b[0m │\n",
              "├──────────────────────────────────────┼─────────────────────────────┼─────────────────┤\n",
              "│ dense_8 (\u001b[38;5;33mDense\u001b[0m)                      │ (\u001b[38;5;45mNone\u001b[0m, \u001b[38;5;34m4\u001b[0m)                   │              \u001b[38;5;34m36\u001b[0m │\n",
              "└──────────────────────────────────────┴─────────────────────────────┴─────────────────┘\n"
            ],
            "text/html": [
              "<pre style=\"white-space:pre;overflow-x:auto;line-height:normal;font-family:Menlo,'DejaVu Sans Mono',consolas,'Courier New',monospace\">┏━━━━━━━━━━━━━━━━━━━━━━━━━━━━━━━━━━━━━━┳━━━━━━━━━━━━━━━━━━━━━━━━━━━━━┳━━━━━━━━━━━━━━━━━┓\n",
              "┃<span style=\"font-weight: bold\"> Layer (type)                         </span>┃<span style=\"font-weight: bold\"> Output Shape                </span>┃<span style=\"font-weight: bold\">         Param # </span>┃\n",
              "┡━━━━━━━━━━━━━━━━━━━━━━━━━━━━━━━━━━━━━━╇━━━━━━━━━━━━━━━━━━━━━━━━━━━━━╇━━━━━━━━━━━━━━━━━┩\n",
              "│ dense_6 (<span style=\"color: #0087ff; text-decoration-color: #0087ff\">Dense</span>)                      │ (<span style=\"color: #00d7ff; text-decoration-color: #00d7ff\">None</span>, <span style=\"color: #00af00; text-decoration-color: #00af00\">32</span>)                  │          <span style=\"color: #00af00; text-decoration-color: #00af00\">16,032</span> │\n",
              "├──────────────────────────────────────┼─────────────────────────────┼─────────────────┤\n",
              "│ dense_7 (<span style=\"color: #0087ff; text-decoration-color: #0087ff\">Dense</span>)                      │ (<span style=\"color: #00d7ff; text-decoration-color: #00d7ff\">None</span>, <span style=\"color: #00af00; text-decoration-color: #00af00\">8</span>)                   │             <span style=\"color: #00af00; text-decoration-color: #00af00\">264</span> │\n",
              "├──────────────────────────────────────┼─────────────────────────────┼─────────────────┤\n",
              "│ dense_8 (<span style=\"color: #0087ff; text-decoration-color: #0087ff\">Dense</span>)                      │ (<span style=\"color: #00d7ff; text-decoration-color: #00d7ff\">None</span>, <span style=\"color: #00af00; text-decoration-color: #00af00\">4</span>)                   │              <span style=\"color: #00af00; text-decoration-color: #00af00\">36</span> │\n",
              "└──────────────────────────────────────┴─────────────────────────────┴─────────────────┘\n",
              "</pre>\n"
            ]
          },
          "metadata": {}
        },
        {
          "output_type": "display_data",
          "data": {
            "text/plain": [
              "\u001b[1m Total params: \u001b[0m\u001b[38;5;34m16,332\u001b[0m (63.80 KB)\n"
            ],
            "text/html": [
              "<pre style=\"white-space:pre;overflow-x:auto;line-height:normal;font-family:Menlo,'DejaVu Sans Mono',consolas,'Courier New',monospace\"><span style=\"font-weight: bold\"> Total params: </span><span style=\"color: #00af00; text-decoration-color: #00af00\">16,332</span> (63.80 KB)\n",
              "</pre>\n"
            ]
          },
          "metadata": {}
        },
        {
          "output_type": "display_data",
          "data": {
            "text/plain": [
              "\u001b[1m Trainable params: \u001b[0m\u001b[38;5;34m16,332\u001b[0m (63.80 KB)\n"
            ],
            "text/html": [
              "<pre style=\"white-space:pre;overflow-x:auto;line-height:normal;font-family:Menlo,'DejaVu Sans Mono',consolas,'Courier New',monospace\"><span style=\"font-weight: bold\"> Trainable params: </span><span style=\"color: #00af00; text-decoration-color: #00af00\">16,332</span> (63.80 KB)\n",
              "</pre>\n"
            ]
          },
          "metadata": {}
        },
        {
          "output_type": "display_data",
          "data": {
            "text/plain": [
              "\u001b[1m Non-trainable params: \u001b[0m\u001b[38;5;34m0\u001b[0m (0.00 B)\n"
            ],
            "text/html": [
              "<pre style=\"white-space:pre;overflow-x:auto;line-height:normal;font-family:Menlo,'DejaVu Sans Mono',consolas,'Courier New',monospace\"><span style=\"font-weight: bold\"> Non-trainable params: </span><span style=\"color: #00af00; text-decoration-color: #00af00\">0</span> (0.00 B)\n",
              "</pre>\n"
            ]
          },
          "metadata": {}
        }
      ]
    },
    {
      "cell_type": "code",
      "source": [
        "# h\n",
        "import matplotlib.pyplot as plt\n",
        "\n",
        "history = model.fit(\n",
        "    X_train_vectorized,  # Trening podaci\n",
        "    y_train_one_hot,  # Trening etikete (one-hot enkodirane)\n",
        "    epochs=8,  # Broj epoha\n",
        "    batch_size=8,  # Veličina batcha\n",
        "    validation_split=0.25  # 25% podataka za validaciju\n",
        ")\n",
        "\n",
        "test_loss, test_accuracy = model.evaluate(X_test_vectorized, y_test_one_hot)\n",
        "print(f\"Test accuracy: {test_accuracy:.4f}\")\n",
        "print(f\"Test loss: {test_loss:.4f}\")\n",
        "\n",
        "plt.figure(figsize=(12, 6))\n",
        "\n",
        "# Gubitak tokom treninga i validacije\n",
        "plt.subplot(1, 2, 1)\n",
        "plt.plot(history.history['loss'], label='Trening gubitak')\n",
        "plt.plot(history.history['val_loss'], label='Validacija gubitak')\n",
        "plt.title('Funkcija gubitka')\n",
        "plt.xlabel('Epohas')\n",
        "plt.ylabel('Gubitak')\n",
        "plt.legend()\n",
        "\n",
        "# Tačnost tokom treninga i validacije\n",
        "plt.subplot(1, 2, 2)\n",
        "plt.plot(history.history['accuracy'], label='Trening tačnost')\n",
        "plt.plot(history.history['val_accuracy'], label='Validacija tačnost')\n",
        "plt.title('Tačnost')\n",
        "plt.xlabel('Epohas')\n",
        "plt.ylabel('Tačnost')\n",
        "plt.legend()\n",
        "\n",
        "plt.show()"
      ],
      "metadata": {
        "colab": {
          "base_uri": "https://localhost:8080/",
          "height": 830
        },
        "id": "u_6A12cQ8mGZ",
        "outputId": "c6b21015-250b-440c-9674-f704f0351c33"
      },
      "execution_count": null,
      "outputs": [
        {
          "output_type": "stream",
          "name": "stdout",
          "text": [
            "Epoch 1/8\n",
            "\u001b[1m168/168\u001b[0m \u001b[32m━━━━━━━━━━━━━━━━━━━━\u001b[0m\u001b[37m\u001b[0m \u001b[1m3s\u001b[0m 6ms/step - accuracy: 0.3516 - loss: 1.2809 - val_accuracy: 0.7812 - val_loss: 0.7457\n",
            "Epoch 2/8\n",
            "\u001b[1m168/168\u001b[0m \u001b[32m━━━━━━━━━━━━━━━━━━━━\u001b[0m\u001b[37m\u001b[0m \u001b[1m1s\u001b[0m 3ms/step - accuracy: 0.8715 - loss: 0.5537 - val_accuracy: 0.9018 - val_loss: 0.3425\n",
            "Epoch 3/8\n",
            "\u001b[1m168/168\u001b[0m \u001b[32m━━━━━━━━━━━━━━━━━━━━\u001b[0m\u001b[37m\u001b[0m \u001b[1m0s\u001b[0m 3ms/step - accuracy: 0.9667 - loss: 0.1837 - val_accuracy: 0.9330 - val_loss: 0.2379\n",
            "Epoch 4/8\n",
            "\u001b[1m168/168\u001b[0m \u001b[32m━━━━━━━━━━━━━━━━━━━━\u001b[0m\u001b[37m\u001b[0m \u001b[1m1s\u001b[0m 3ms/step - accuracy: 0.9851 - loss: 0.0954 - val_accuracy: 0.9308 - val_loss: 0.2238\n",
            "Epoch 5/8\n",
            "\u001b[1m168/168\u001b[0m \u001b[32m━━━━━━━━━━━━━━━━━━━━\u001b[0m\u001b[37m\u001b[0m \u001b[1m1s\u001b[0m 3ms/step - accuracy: 0.9931 - loss: 0.0617 - val_accuracy: 0.9397 - val_loss: 0.1883\n",
            "Epoch 6/8\n",
            "\u001b[1m168/168\u001b[0m \u001b[32m━━━━━━━━━━━━━━━━━━━━\u001b[0m\u001b[37m\u001b[0m \u001b[1m1s\u001b[0m 3ms/step - accuracy: 0.9959 - loss: 0.0356 - val_accuracy: 0.9397 - val_loss: 0.1841\n",
            "Epoch 7/8\n",
            "\u001b[1m168/168\u001b[0m \u001b[32m━━━━━━━━━━━━━━━━━━━━\u001b[0m\u001b[37m\u001b[0m \u001b[1m1s\u001b[0m 4ms/step - accuracy: 0.9996 - loss: 0.0224 - val_accuracy: 0.9509 - val_loss: 0.1847\n",
            "Epoch 8/8\n",
            "\u001b[1m168/168\u001b[0m \u001b[32m━━━━━━━━━━━━━━━━━━━━\u001b[0m\u001b[37m\u001b[0m \u001b[1m1s\u001b[0m 3ms/step - accuracy: 1.0000 - loss: 0.0129 - val_accuracy: 0.9420 - val_loss: 0.1910\n",
            "\u001b[1m7/7\u001b[0m \u001b[32m━━━━━━━━━━━━━━━━━━━━\u001b[0m\u001b[37m\u001b[0m \u001b[1m0s\u001b[0m 6ms/step - accuracy: 0.9025 - loss: 0.3561  \n",
            "Test accuracy: 0.9045\n",
            "Test loss: 0.3510\n"
          ]
        },
        {
          "output_type": "display_data",
          "data": {
            "text/plain": [
              "<Figure size 1200x600 with 2 Axes>"
            ],
            "image/png": "[encoded data removed]"
          },
          "metadata": {}
        }
      ]
    },
    {
      "cell_type": "code",
      "source": [
        "# i\n",
        "test_loss, test_accuracy = model.evaluate(X_test_vectorized, y_test_one_hot)\n",
        "print(f\"Test accuracy: {test_accuracy:.4f}\")\n",
        "print(f\"Test loss: {test_loss:.4f}\")"
      ],
      "metadata": {
        "colab": {
          "base_uri": "https://localhost:8080/"
        },
        "id": "lWVCXD9q8shy",
        "outputId": "4ceb2081-f376-48b8-ccdd-81567b63617a"
      },
      "execution_count": null,
      "outputs": [
        {
          "output_type": "stream",
          "name": "stdout",
          "text": [
            "\u001b[1m7/7\u001b[0m \u001b[32m━━━━━━━━━━━━━━━━━━━━\u001b[0m\u001b[37m\u001b[0m \u001b[1m0s\u001b[0m 22ms/step - accuracy: 0.9025 - loss: 0.3561\n",
            "Test accuracy: 0.9045\n",
            "Test loss: 0.3510\n"
          ]
        }
      ]
    }
  ]
}